{
 "cells": [
  {
   "cell_type": "code",
   "execution_count": 1,
   "metadata": {},
   "outputs": [],
   "source": [
    "import pandas as pd\n",
    "from tools import write_data\n",
    "import json"
   ]
  },
  {
   "cell_type": "code",
   "execution_count": 2,
   "metadata": {},
   "outputs": [],
   "source": [
    "tickers_exchanges = json.load(open('tickers_exchanges.json'))"
   ]
  },
  {
   "cell_type": "code",
   "execution_count": 3,
   "metadata": {},
   "outputs": [
    {
     "name": "stdout",
     "output_type": "stream",
     "text": [
      "There are 9713 unique tickers\n"
     ]
    }
   ],
   "source": [
    "all_tickers = set()\n",
    "for unique_tickers in tickers_exchanges.values():\n",
    "    for unique in set(unique_tickers):\n",
    "        all_tickers.add(unique)\n",
    "    \n",
    "print(\"There are\", len(all_tickers), \"unique tickers\")"
   ]
  },
  {
   "cell_type": "code",
   "execution_count": 4,
   "metadata": {},
   "outputs": [],
   "source": [
    "tickers = {t:[] for t in all_tickers}"
   ]
  },
  {
   "cell_type": "code",
   "execution_count": 5,
   "metadata": {},
   "outputs": [],
   "source": [
    "for unique in all_tickers:\n",
    "    for ex in tickers_exchanges:\n",
    "        if unique in tickers_exchanges[ex]:\n",
    "            tickers[unique].append(ex)"
   ]
  },
  {
   "cell_type": "code",
   "execution_count": 6,
   "metadata": {},
   "outputs": [],
   "source": [
    "write_data(tickers, 'exchanges_tickers.json')"
   ]
  },
  {
   "cell_type": "code",
   "execution_count": null,
   "metadata": {},
   "outputs": [],
   "source": []
  }
 ],
 "metadata": {
  "kernelspec": {
   "display_name": "Python 3.8.15 ('cecl')",
   "language": "python",
   "name": "python3"
  },
  "language_info": {
   "codemirror_mode": {
    "name": "ipython",
    "version": 3
   },
   "file_extension": ".py",
   "mimetype": "text/x-python",
   "name": "python",
   "nbconvert_exporter": "python",
   "pygments_lexer": "ipython3",
   "version": "3.8.15"
  },
  "orig_nbformat": 4,
  "vscode": {
   "interpreter": {
    "hash": "3eec20aad02aaa868108f8be7a584f96171316be8a44f2fcf9f82f7fd7a86bf9"
   }
  }
 },
 "nbformat": 4,
 "nbformat_minor": 2
}
